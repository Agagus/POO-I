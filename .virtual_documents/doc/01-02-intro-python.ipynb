

















!python --version























%%file hola_mundo.py
print('Hola mundo')





!python hola_mundo.py








# Esto es un comentario








a = 2
if a > 1:
    print('a es mayor que 1')








# tipos de variables
i  = 4      # int
f  = 3.14   # float
b1 = True   # bool
b2 = False  # bool
s1 = 'Hi'   # str
s2 = "Hi"   # str
s3 = ''' 
     Hi
     '''    # str 
n  = None   # NoneType


print(type(i), type(f), type(b1), type(b2), type(s1), type(s2), type(s3), type(n)) # obtiene el tipo





import keyword

print(keyword.kwlist)

















w = str(3)    # w será '3'
x = int('3')  # x será 3
y = float(3)  # y será 3.0
z = bool(0)   # z será False, porque True equivale a 1 y False a 0


print(w, x, y, z)








# suma
3 + 2


# resta
3 - 2


# multiplicación
3 * 2


# división
3 / 2


# división entera
3 // 2


# módulo: resto de la división
3 % 2


# potenciación
3 ** 2





# se considera la precedencia de operadores
(1 + 2**2) * 5 + 13





# asignación
a = 1


# suma y asignación
a += 1





# igualdad
2 == 2


# distinto
2 != 2


# mayor
4 > 2





# conjunción
2 == 2 and 4 > 2





a = 1
b = a
a is b





'a' in 'Hola Mundo'





edad = input('Cual es tu edad? ')  # devuelve str
edad





help('print')


print('Tu edad es', edad)


print('Tu edad es', edad, sep='->')


print('Tu edad es', edad, end='\n')








b = 'Hola mundo'


b[0]


b[3]


b[-1] # fin de cadena


b[2:5]


b[:5]


b[2:]





# concatenación (+)
'Hola' + ' ' + 'mundo'


# longitud
len(b)


# test de pertenencia (in, not in)
'mun' in b


# replicación
'Hola' * 3








# elimina espacios en blanco al inicio o al final
' Hola   '.strip()


b.upper()


b.lower()


b.capitalize()


b.title()


b.replace('o', 'x')


b.split('a')








lenguaje = "Python"
universidad = "UNO"
f'Estoy aprendiendo {lenguaje} en la {universidad}.'




















a = 10
if a == 10:
    print("Es 10")
else:
    print("No es 10")


edad = 14
if edad < 18:
    print("Menor")
elif edad >= 65:
    print("Jubilado")
else:
    print("Activo")





x = 0
while x < 3:
    print(x)
    x += 1


x = 0
while True:
    print(x)
    if x == 2:
        break
    x += 1





palabra = 'python'
for letra in palabra:
    print(letra)


for i in range(3):
    print(i)


for i in range(3):
    if i == 1:
        continue


for i in range(1, 10, 2):  # el 2 es un salto
    print(i, end=', ')





# pueden tener parámetros/argumentos
# el pasaje es siempre por referencia
def sumar(a, b=3):      # declaración con argumento por defecto
    return a + b        # cuerpo

print(sumar(1, 2))      # argumentos posicionales
print(sumar(b=2, a=1))  # argumentos nominales
print(sumar(1))





def sum_all(*varargs):
    suma = 0
    for v in varargs:
        suma += v
    return suma

print(sum_all(1))
print(sum_all(1, 2))
print(sum_all(1, 2, 3))





def hanoi(n, inc='1', temp='2', fin='3'):
    if n > 0:
        hanoi(n-1, inc, fin, temp)
        print('se mueve de torre', inc, 'a torre', fin)
        hanoi(n-1, temp, inc, fin)

hanoi(3)





def area_cuadrado(lado):
  """ Calcula el área de un cuadrado
  elevando al cuadrado el lado pasado
  por parámetro """
  return "El area es: " + str(lado * lado)

print(area_cuadrado.__doc__)   # imprime comentario
help(area_cuadrado)            # imprime mas detalle






