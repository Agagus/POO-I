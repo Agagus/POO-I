








def saludo():
    print("¡Hola amigo!")

saludo()








def saludo(nombre):
    return print(f"¡Hola {nombre}!")

saludo("Agus")








def factorial(num):
    if num <= 0:
        acum = 0
    else:
        acum = 1
        while num > 0:
            acum = acum * num
            num -= 1 

    return acum
factorial(0)








def iva(cant, porcent=21):
    total = cant * (porcent / 100 + 1)
    return total

iva(100, 15)








def area(radio):
    return 3.14159 * (radio**2)

def volumen(radio, altura):
    return area(radio) * altura
    
area(1)
volumen(1, 2)








lista = [4, 2, 4, 2]
def media(lis):
    aux = 0
    for i in lis:
        aux += i

    return aux / len(lis)

media(lista)








lista = [4, 2, 4, 2]
def cuadrados(lis):
    aux = []
    for i in lis:
        aux.append(i**2)
    return aux

cuadrados(lista)



































cadena = "Hola mundo hola Mundo bla bla mundo"

def diccionario(cad):
    lis = cad.split(" ")
    print(lis)

diccionario(cadena.lower())








def numeros(n):
    aux = 0
    while n > 0:
        print(aux)
        aux += 1
        n -= 1
    print(aux)
numeros(5)








def sumaMultiplos(n):
    suma = 0
    while n > 0:
        if (n-1) % 3 == 0 or (n-1) % 5 == 0:
            suma += n-1
            print(n-1)
        n = n-1
    print("Total:", suma)
sumaMultiplos(4)

















def invertir(cad):
    #[::-1]
    lis = list(cad) #convierto el str en lista
    lis.reverse() #invierto la lista con el metodo reverse
    invertida = "".join(lis) #creo el str invertida, uno cada valor de la lista en un str

    if cad.lower() == invertida.lower():
        print(f"{cad} es palíndromo")
    
    print(invertida)
invertir("Hola mundo")
invertir("neUquen")

#otra forma de invertir un string
#a = "hola mundo"
#print(a[::-1])








def fizzBuzz():
    num = 1
    while num <= 100 :
        if num % 3 == 0:
            print("Fizz")
        elif num % 5 == 0:
            print("Buzz")
        elif num % 3 == 0 and num % 5 == 0:
            print("FizzBuzz")
        else : print(num)
        num = num + 1

fizzBuzz()








frase = "zola mundo"

def cifraDelCesar(fra, mov):
    low = fra.lower()
    for letra in low:
        a = ord(letra) - ord("a") + 1        #obtengo la posicion de la letra segun ascii
        a = int(a)
        if a < 0 :         #chequeo si es un espacio
            a = ord(" ")
        elif int(a) + mov > 26:     #chequeo si el corrimiento se pasa de la z
            a = (int(a) + mov) - 26 
        else :
            a = int(a + mov)

        #if a == ord(" ") :
        corrido = chr(ord('a') + a -1)
        #else : 
            #corrido = " " 
        print(corrido)        #chr(ord('a') + pos - 1)   siendo pos la posicion de la letra
 

cifraDelCesar(frase, 2)








total = 0
mayor_dia = 0
mayor_monto = 0





























