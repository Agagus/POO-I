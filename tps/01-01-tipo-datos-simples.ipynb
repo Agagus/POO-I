{
 "cells": [
  {
   "cell_type": "markdown",
   "id": "d95ed2f3-0f88-4611-ae07-9e1b532bef24",
   "metadata": {},
   "source": [
    "# TP - Tipo datos simples\n",
    "---"
   ]
  },
  {
   "cell_type": "markdown",
   "id": "960f18e5-38eb-4416-97e0-dd65b62e1d91",
   "metadata": {},
   "source": [
    "## Hola mundo"
   ]
  },
  {
   "cell_type": "markdown",
   "id": "51679e3d-88ba-4505-a241-6e649acb497b",
   "metadata": {},
   "source": [
    "Escribir un programa que muestre por pantalla la cadena Hola Mundo"
   ]
  },
  {
   "cell_type": "code",
   "execution_count": 1,
   "id": "713b1016-d1f4-4eb5-a66a-8fa7d0b216c0",
   "metadata": {},
   "outputs": [
    {
     "name": "stdout",
     "output_type": "stream",
     "text": [
      "Hola mundo\n"
     ]
    }
   ],
   "source": [
    "print(\"Hola mundo\")"
   ]
  },
  {
   "cell_type": "markdown",
   "id": "b1e2b38b-72d5-4772-8e46-1e1e3a6f47ee",
   "metadata": {},
   "source": [
    "## Hola mundo en variable"
   ]
  },
  {
   "cell_type": "markdown",
   "id": "042b73b2-47ee-4846-8fa3-2bfe43dcf793",
   "metadata": {},
   "source": [
    "Escribir un programa que almacene la cadena Hola Mundo en una variable y luego muestre por pantalla el contenido de la variable"
   ]
  },
  {
   "cell_type": "code",
   "execution_count": 2,
   "id": "966c2b18-91ba-46b1-8997-9fd11c3019ab",
   "metadata": {},
   "outputs": [
    {
     "name": "stdout",
     "output_type": "stream",
     "text": [
      "Hola mundo\n"
     ]
    }
   ],
   "source": [
    "a = \"Hola mundo\"\n",
    "print(a)"
   ]
  },
  {
   "cell_type": "markdown",
   "id": "1a6ae09a-2786-423b-a591-3419e99f320d",
   "metadata": {},
   "source": [
    "## Hola usuario"
   ]
  },
  {
   "cell_type": "markdown",
   "id": "100dced9-bf26-4c95-adc5-06035070db99",
   "metadata": {},
   "source": [
    "Escribir un programa que pregunte el nombre del usuario en la consola y después de que el usuario lo introduzca muestre por pantalla la cadena ¡Hola \\<nombre>!, donde \\<nombre> es el nombre que el usuario haya introducido"
   ]
  },
  {
   "cell_type": "code",
   "execution_count": 4,
   "id": "5eb634c7-eedc-49a7-9690-2cb099749a12",
   "metadata": {},
   "outputs": [
    {
     "name": "stdin",
     "output_type": "stream",
     "text": [
      "Ingrese su nombre\n",
      " Agus\n"
     ]
    },
    {
     "name": "stdout",
     "output_type": "stream",
     "text": [
      "¡Hola Agus!\n"
     ]
    }
   ],
   "source": [
    "name = input(\"Ingrese su nombre\\n\")\n",
    "print(f\"¡Hola {name}!\")"
   ]
  },
  {
   "cell_type": "markdown",
   "id": "67f58583-2e58-4564-bb01-f7274e4813fc",
   "metadata": {},
   "source": [
    "## Operación aritmética"
   ]
  },
  {
   "cell_type": "markdown",
   "id": "f72bcc3f-572b-4bca-9ebe-dde35ea344c0",
   "metadata": {},
   "source": [
    "Escribir un programa que muestre por pantalla el resultado de la siguiente operación aritmética:(3+2/2*5)^2"
   ]
  },
  {
   "cell_type": "code",
   "execution_count": 5,
   "id": "bc271521-72b8-4f5e-884b-1b749d7d31c6",
   "metadata": {},
   "outputs": [
    {
     "name": "stdout",
     "output_type": "stream",
     "text": [
      "64.0\n"
     ]
    }
   ],
   "source": [
    "print((3+2/2*5)**2)"
   ]
  },
  {
   "cell_type": "markdown",
   "id": "fe97da7f-42db-4c3f-bb4f-1d072dc5afc7",
   "metadata": {},
   "source": [
    "## Suma y Cociente"
   ]
  },
  {
   "cell_type": "markdown",
   "id": "24f96f6b-56d3-41df-816b-7881f00b493b",
   "metadata": {},
   "source": [
    "Escribir un programa que lea dos valores enteros e informe la suma y su cociente"
   ]
  },
  {
   "cell_type": "code",
   "execution_count": 7,
   "id": "d1a36c4f-2836-4ec6-b710-5adc6679dca4",
   "metadata": {},
   "outputs": [
    {
     "ename": "KeyboardInterrupt",
     "evalue": "Interrupted by user",
     "output_type": "error",
     "traceback": [
      "\u001b[0;31m---------------------------------------------------------------------------\u001b[0m",
      "\u001b[0;31mKeyboardInterrupt\u001b[0m                         Traceback (most recent call last)",
      "Cell \u001b[0;32mIn[7], line 1\u001b[0m\n\u001b[0;32m----> 1\u001b[0m a \u001b[38;5;241m=\u001b[39m \u001b[38;5;28mint\u001b[39m(\u001b[38;5;28minput\u001b[39m(\u001b[38;5;124m\"\u001b[39m\u001b[38;5;124mIngrese un valor numerico\u001b[39m\u001b[38;5;130;01m\\n\u001b[39;00m\u001b[38;5;124m\"\u001b[39m))\n\u001b[1;32m      2\u001b[0m b \u001b[38;5;241m=\u001b[39m \u001b[38;5;28mint\u001b[39m(\u001b[38;5;28minput\u001b[39m(\u001b[38;5;124m\"\u001b[39m\u001b[38;5;124mIngrese otro valor numerico\u001b[39m\u001b[38;5;130;01m\\n\u001b[39;00m\u001b[38;5;124m\"\u001b[39m))\n\u001b[1;32m      3\u001b[0m suma \u001b[38;5;241m=\u001b[39m a \u001b[38;5;241m+\u001b[39m b\n",
      "File \u001b[0;32m~/anaconda3/lib/python3.13/site-packages/ipykernel/kernelbase.py:1282\u001b[0m, in \u001b[0;36mKernel.raw_input\u001b[0;34m(self, prompt)\u001b[0m\n\u001b[1;32m   1280\u001b[0m     msg \u001b[38;5;241m=\u001b[39m \u001b[38;5;124m\"\u001b[39m\u001b[38;5;124mraw_input was called, but this frontend does not support input requests.\u001b[39m\u001b[38;5;124m\"\u001b[39m\n\u001b[1;32m   1281\u001b[0m     \u001b[38;5;28;01mraise\u001b[39;00m StdinNotImplementedError(msg)\n\u001b[0;32m-> 1282\u001b[0m \u001b[38;5;28;01mreturn\u001b[39;00m \u001b[38;5;28mself\u001b[39m\u001b[38;5;241m.\u001b[39m_input_request(\n\u001b[1;32m   1283\u001b[0m     \u001b[38;5;28mstr\u001b[39m(prompt),\n\u001b[1;32m   1284\u001b[0m     \u001b[38;5;28mself\u001b[39m\u001b[38;5;241m.\u001b[39m_parent_ident[\u001b[38;5;124m\"\u001b[39m\u001b[38;5;124mshell\u001b[39m\u001b[38;5;124m\"\u001b[39m],\n\u001b[1;32m   1285\u001b[0m     \u001b[38;5;28mself\u001b[39m\u001b[38;5;241m.\u001b[39mget_parent(\u001b[38;5;124m\"\u001b[39m\u001b[38;5;124mshell\u001b[39m\u001b[38;5;124m\"\u001b[39m),\n\u001b[1;32m   1286\u001b[0m     password\u001b[38;5;241m=\u001b[39m\u001b[38;5;28;01mFalse\u001b[39;00m,\n\u001b[1;32m   1287\u001b[0m )\n",
      "File \u001b[0;32m~/anaconda3/lib/python3.13/site-packages/ipykernel/kernelbase.py:1325\u001b[0m, in \u001b[0;36mKernel._input_request\u001b[0;34m(self, prompt, ident, parent, password)\u001b[0m\n\u001b[1;32m   1322\u001b[0m \u001b[38;5;28;01mexcept\u001b[39;00m \u001b[38;5;167;01mKeyboardInterrupt\u001b[39;00m:\n\u001b[1;32m   1323\u001b[0m     \u001b[38;5;66;03m# re-raise KeyboardInterrupt, to truncate traceback\u001b[39;00m\n\u001b[1;32m   1324\u001b[0m     msg \u001b[38;5;241m=\u001b[39m \u001b[38;5;124m\"\u001b[39m\u001b[38;5;124mInterrupted by user\u001b[39m\u001b[38;5;124m\"\u001b[39m\n\u001b[0;32m-> 1325\u001b[0m     \u001b[38;5;28;01mraise\u001b[39;00m \u001b[38;5;167;01mKeyboardInterrupt\u001b[39;00m(msg) \u001b[38;5;28;01mfrom\u001b[39;00m\u001b[38;5;250m \u001b[39m\u001b[38;5;28;01mNone\u001b[39;00m\n\u001b[1;32m   1326\u001b[0m \u001b[38;5;28;01mexcept\u001b[39;00m \u001b[38;5;167;01mException\u001b[39;00m:\n\u001b[1;32m   1327\u001b[0m     \u001b[38;5;28mself\u001b[39m\u001b[38;5;241m.\u001b[39mlog\u001b[38;5;241m.\u001b[39mwarning(\u001b[38;5;124m\"\u001b[39m\u001b[38;5;124mInvalid Message:\u001b[39m\u001b[38;5;124m\"\u001b[39m, exc_info\u001b[38;5;241m=\u001b[39m\u001b[38;5;28;01mTrue\u001b[39;00m)\n",
      "\u001b[0;31mKeyboardInterrupt\u001b[0m: Interrupted by user"
     ]
    }
   ],
   "source": [
    "a = int(input(\"Ingrese un valor numerico\\n\"))\n",
    "b = int(input(\"Ingrese otro valor numerico\\n\"))\n",
    "suma = a + b\n",
    "coc = a/b\n",
    "print(f\"La suma de los valores ingresados es {suma}\")\n",
    "print(f\"El cociente entre los valores ingresados es {coc}\")"
   ]
  },
  {
   "cell_type": "markdown",
   "id": "41e2130e-4006-4644-b730-c838dd6feb4c",
   "metadata": {},
   "source": [
    "## Pago"
   ]
  },
  {
   "cell_type": "markdown",
   "id": "4c88fa1d-48ae-4443-8c27-2c195af5f339",
   "metadata": {},
   "source": [
    "Escribir un programa que pregunte al usuario por el número de horas trabajadas y el coste por hora. Después debe mostrar por pantalla el pago que le corresponde"
   ]
  },
  {
   "cell_type": "code",
   "execution_count": 9,
   "id": "91bc3f1b-4ebb-47c1-90fe-819b9cb0d563",
   "metadata": {},
   "outputs": [
    {
     "name": "stdin",
     "output_type": "stream",
     "text": [
      "Ingrese el número de horas trabajadas\n",
      " 5\n",
      "Ingrese el costo por hora\n",
      " 3900\n"
     ]
    },
    {
     "name": "stdout",
     "output_type": "stream",
     "text": [
      "Su paga es: 19500\n"
     ]
    }
   ],
   "source": [
    "horas = int(input(\"Ingrese el número de horas trabajadas\\n\"))\n",
    "coste = int(input(\"Ingrese el costo por hora\\n\"))\n",
    "paga = horas * coste\n",
    "print(f\"Su paga es: {paga}\")"
   ]
  },
  {
   "cell_type": "markdown",
   "id": "2753f491-8e51-445d-900d-82da42503141",
   "metadata": {},
   "source": [
    "## Suma 1 a n"
   ]
  },
  {
   "cell_type": "markdown",
   "id": "0c18f3cc-5a46-4e7f-aa83-52cd00e15730",
   "metadata": {},
   "source": [
    "Escribir un programa que lea un entero positivo, n, introducido por el usuario y después muestre en pantalla la suma de todos los enteros desde 1 hasta n. La suma de los n primeros enteros positivos puede ser calculada de la siguiente forma suma = n(n+1)/2"
   ]
  },
  {
   "cell_type": "code",
   "execution_count": 12,
   "id": "12839ac9-3a9c-4903-aa25-f22520b6be42",
   "metadata": {},
   "outputs": [
    {
     "name": "stdin",
     "output_type": "stream",
     "text": [
      "Ingrese un número entero positivo\n",
      " 3\n"
     ]
    },
    {
     "name": "stdout",
     "output_type": "stream",
     "text": [
      "La suma de todos los enteros desde 1 hasta 3 es de 6.0\n"
     ]
    }
   ],
   "source": [
    "num = int(input(\"Ingrese un número entero positivo\\n\"))\n",
    "suma = num*(num+1)/2\n",
    "\n",
    "print(f\"La suma de todos los enteros desde 1 hasta {num} es de {suma}\")"
   ]
  },
  {
   "cell_type": "markdown",
   "id": "1c0874b5-e7f9-41b3-9410-40ad157251be",
   "metadata": {},
   "source": [
    "## IMC"
   ]
  },
  {
   "cell_type": "markdown",
   "id": "1de172da-97d0-4dc0-8b48-3c9ebf96f47b",
   "metadata": {},
   "source": [
    "Escribir un programa que pida al usuario su peso (en kg) y estatura (en metros), calcule el índice de masa corporal y lo almacene en una variable, y muestre por pantalla la frase: Tu índice de masa corporal es \\<imc> donde \\<imc> es el índice de masa corporal calculado redondeado con dos decimales"
   ]
  },
  {
   "cell_type": "code",
   "execution_count": 15,
   "id": "16ed0177-e30f-44a0-b7e7-ae9542a54a31",
   "metadata": {},
   "outputs": [
    {
     "name": "stdin",
     "output_type": "stream",
     "text": [
      "Ingrese su peso en kg\n",
      " 44\n",
      "Ingrese su altura en metros\n",
      " 1.53\n"
     ]
    },
    {
     "name": "stdout",
     "output_type": "stream",
     "text": [
      "Su indice de masa corporal (IMC) es 28.76\n"
     ]
    }
   ],
   "source": [
    "peso = int(input(\"Ingrese su peso en kg\\n\"))\n",
    "alt = float(input(\"Ingrese su altura en metros\\n\"))\n",
    "IMC = peso / alt\n",
    "print(f\"Su indice de masa corporal (IMC) es {IMC:.2f}\")"
   ]
  },
  {
   "cell_type": "markdown",
   "id": "c9df4204-0455-472e-a687-93e9f10f2381",
   "metadata": {},
   "source": [
    "## Cociente y Resto"
   ]
  },
  {
   "cell_type": "markdown",
   "id": "75cc0851-8bc1-43e3-9257-27f5fde0326d",
   "metadata": {},
   "source": [
    "Escribir un programa que pida al usuario dos números enteros y muestre por pantalla la \\<n> entre \\<m> da un cociente \\<c> y un resto \\<r> donde \\<n> y \\<m> son los números introducidos por el usuario, y \\<c> y \\<r> son el cociente y el resto de la división entera respectivamente"
   ]
  },
  {
   "cell_type": "code",
   "execution_count": 19,
   "id": "e3c15ae6-f03b-450b-8a0a-104565fe7d05",
   "metadata": {},
   "outputs": [
    {
     "name": "stdin",
     "output_type": "stream",
     "text": [
      "Ingrese un número entero positivo\n",
      " 9\n",
      "Ingrese un número entero positivo\n",
      " 2\n"
     ]
    },
    {
     "name": "stdout",
     "output_type": "stream",
     "text": [
      "El cociente de dividir 9 y 2 es 4.5, y su resto es 1\n"
     ]
    }
   ],
   "source": [
    "num = int(input(\"Ingrese un número entero positivo\\n\"))\n",
    "num2 = int(input(\"Ingrese un número entero positivo\\n\"))\n",
    "coc = num / num2\n",
    "rest = num % num2\n",
    "print(f\"El cociente de dividir {num} y {num2} es {coc}, y su resto es {rest}\")"
   ]
  },
  {
   "cell_type": "markdown",
   "id": "06bbcb97-0f43-4fbe-ba6f-0b9abc09c154",
   "metadata": {},
   "source": [
    "## Inversión"
   ]
  },
  {
   "cell_type": "markdown",
   "id": "0b77fb6a-9c9b-4694-8925-7fb46d0852f2",
   "metadata": {},
   "source": [
    "Escribir un programa que pregunte al usuario una cantidad a invertir, el interés anual y el número de años, y muestre por pantalla el capital obtenido en la inversión"
   ]
  },
  {
   "cell_type": "code",
   "execution_count": 31,
   "id": "e886ace0-9638-4d57-a2b9-c493e3eba5a2",
   "metadata": {},
   "outputs": [
    {
     "name": "stdin",
     "output_type": "stream",
     "text": [
      "Ingrese una cantidad a invertir\n",
      " 1000\n",
      "Ingrese el interés anual y el número de años\n",
      " 20 2\n"
     ]
    },
    {
     "name": "stdout",
     "output_type": "stream",
     "text": [
      "El capital obtenido será 2400.0\n"
     ]
    }
   ],
   "source": [
    "cant = float(input(\"Ingrese una cantidad a invertir\\n\"))\n",
    "interes = input(\"Ingrese el interés anual y el número de años\\n\")\n",
    "interes = interes.split(\" \")\n",
    "a = float(interes[0])\n",
    "\n",
    "\n",
    "capital = cant * (a/100+1) * float(interes[1])\n",
    "\n",
    "print(f\"El capital obtenido será {capital}\")"
   ]
  },
  {
   "cell_type": "markdown",
   "id": "826e5686-ee4b-4bba-a4a7-be8ed706d0d3",
   "metadata": {},
   "source": [
    "## Juguetería"
   ]
  },
  {
   "cell_type": "markdown",
   "id": "7cf9f537-d6db-479c-b183-65f5cf8371d9",
   "metadata": {},
   "source": [
    "Una juguetería tiene mucho éxito en dos de sus productos: autos y muñecas. Suele hacer venta por correo y la empresa de logística les cobra por peso de cada paquete así que se debe calcular el peso de los autos y muñecas que saldrán en cada paquete a demanda. Cada auto pesa 112 g y cada muñeca 75 g. Escribir un programa que lea el número de autos y muñecas vendidos en el último pedido y calcule el peso total del paquete que será enviado"
   ]
  },
  {
   "cell_type": "code",
   "execution_count": 33,
   "id": "2c58a3a6-83c2-459f-b65c-6a6ad762bcfd",
   "metadata": {},
   "outputs": [
    {
     "name": "stdin",
     "output_type": "stream",
     "text": [
      "Ingrese el total de autos vendidos en el pedido\n",
      " 10\n",
      "Ingrese el total de muñecas vendidos en el pedido\n",
      " 10\n"
     ]
    },
    {
     "name": "stdout",
     "output_type": "stream",
     "text": [
      "El peso total del paquete conteniendo 10 autos y 10 muñecas es de 1870g\n"
     ]
    }
   ],
   "source": [
    "auto = 112\n",
    "muñe = 75\n",
    "\n",
    "cantA = int(input(\"Ingrese el total de autos vendidos en el pedido\\n\"))\n",
    "cantM = int(input(\"Ingrese el total de muñecas vendidos en el pedido\\n\"))\n",
    "\n",
    "pesoA = cantA * auto\n",
    "pesoM = cantM * muñe\n",
    "peso_total = pesoA + pesoM\n",
    "\n",
    "print(f\"El peso total del paquete conteniendo {cantA} autos y {cantM} muñecas es de {peso_total} g\")"
   ]
  },
  {
   "cell_type": "markdown",
   "id": "686b8cfb-7f52-46b1-b0c7-80c59d84bd1b",
   "metadata": {},
   "source": [
    "## Caja de Ahorros"
   ]
  },
  {
   "cell_type": "markdown",
   "id": "eeffb363-3d72-4518-a672-2139b7e836da",
   "metadata": {},
   "source": [
    "Imagina que acabas de abrir una nueva caja de ahorros en USD que te ofrece el 4% de interés al año. Estos ahorros debido a intereses, que no se cobran hasta finales de año, se te añaden al balance final de tu caja de ahorros. Escribir un programa que comience leyendo la cantidad de dinero depositada en la cuenta de ahorros, introducida por el usuario. Después el programa debe calcular y mostrar por pantalla la cantidad de ahorros tras el primer, segundo y tercer años. Redondear cada cantidad a dos decimales"
   ]
  },
  {
   "cell_type": "code",
   "execution_count": 37,
   "id": "44bc2387-3d17-47b5-a1bd-536837b164c5",
   "metadata": {},
   "outputs": [
    {
     "name": "stdin",
     "output_type": "stream",
     "text": [
      "Ingrese el monto del dinero inicial\n",
      " 1000\n"
     ]
    },
    {
     "name": "stdout",
     "output_type": "stream",
     "text": [
      "Tus ahorros al primer año sumaran 1040.0\n",
      "Tus ahorros al segundo año sumaran 1081.60\n",
      "Tus ahorros al tercer año sumaran 1124.86\n"
     ]
    }
   ],
   "source": [
    "inic = int(input(\"Ingrese el monto del dinero inicial\\n\"))\n",
    "año1 = inic * (4/100+1)\n",
    "año2 = año1 * (4/100+1)\n",
    "año3 = año2 * (4/100+1)\n",
    "\n",
    "print(f\"Tus ahorros al primer año sumaran {año1}\")\n",
    "print(f\"Tus ahorros al segundo año sumaran {año2:.2f}\")\n",
    "print(f\"Tus ahorros al tercer año sumaran {año3:.2f}\")\n"
   ]
  },
  {
   "cell_type": "markdown",
   "id": "86fce922-de0e-4a18-b85f-4f7ff861a106",
   "metadata": {},
   "source": [
    "## Panadería"
   ]
  },
  {
   "cell_type": "markdown",
   "id": "d62522df-bfed-4c95-b0e5-626c62cf71b2",
   "metadata": {},
   "source": [
    "Una panadería vende bolsas de pan a ARS 2000 cada una. El pan que no es el día tiene un descuento del 60%. Escribir un programa que comience leyendo el número de bolsas vendidas que no son del día. Después el programa debe mostrar el precio\n",
    "habitual de una bolsa de pan, el descuento que se le hace por no ser fresca y el coste final total"
   ]
  },
  {
   "cell_type": "code",
   "execution_count": 41,
   "id": "beb73f03-3216-4a4c-bd52-76b3fbb03ff2",
   "metadata": {},
   "outputs": [
    {
     "name": "stdin",
     "output_type": "stream",
     "text": [
      "Ingrese la cantidad de bolsas vendidas del día anterior\n",
      " 1\n"
     ]
    },
    {
     "name": "stdout",
     "output_type": "stream",
     "text": [
      "El precio habitual del pan es de 2000\n",
      "El descuento por no ser fresco es de 1200.0\n",
      "El costo final es 800.0\n"
     ]
    }
   ],
   "source": [
    "bolsas = int(input(\"Ingrese la cantidad de bolsas vendidas del día anterior\\n\"))\n",
    "\n",
    "pan_hoy = 2000\n",
    "pan_ayer = pan_hoy * 0.4\n",
    "desc = bolsas * (pan_hoy * 0.6)\n",
    "total = bolsas * pan_ayer\n",
    "print(f\"El precio habitual del pan es de {pan_hoy}\")\n",
    "print(f\"El descuento por no ser fresco es de {desc}\")\n",
    "print(f\"El costo final es {total}\")\n"
   ]
  },
  {
   "cell_type": "markdown",
   "id": "d72db668-61e4-447e-af13-1c00f80f6e4a",
   "metadata": {},
   "source": [
    "## Separar fecha"
   ]
  },
  {
   "cell_type": "markdown",
   "id": "a057ecd8-1f69-49ef-8fbd-fda9a78dd460",
   "metadata": {},
   "source": [
    "Se ingresa un valor numérico de  8 dígitos que representa una fecha con el siguiente formato aaaammdd. Se pide informar por separado el día, el mes y el año de la fecha ingresada"
   ]
  },
  {
   "cell_type": "code",
   "execution_count": 46,
   "id": "6dd44d1c-3fd0-49c4-ad46-9beb18679a17",
   "metadata": {},
   "outputs": [
    {
     "name": "stdin",
     "output_type": "stream",
     "text": [
      "Ingrese la fecha con el siguiente formato: aaaammdd\n",
      " 20250820\n"
     ]
    },
    {
     "name": "stdout",
     "output_type": "stream",
     "text": [
      "20/08/2025\n"
     ]
    }
   ],
   "source": [
    "fecha = input(\"Ingrese la fecha con el siguiente formato: aaaammdd\\n\")\n",
    "#20250820\n",
    "año = fecha[0:4]\n",
    "mes = fecha[4:6]\n",
    "dia = fecha[6:8]\n",
    "print(f\"{dia}/{mes}/{año}\")\n"
   ]
  },
  {
   "cell_type": "code",
   "execution_count": null,
   "id": "d6c206ac-bfb8-43f6-8783-7d9c8e4774ef",
   "metadata": {},
   "outputs": [],
   "source": []
  }
 ],
 "metadata": {
  "kernelspec": {
   "display_name": "Python 3 (ipykernel)",
   "language": "python",
   "name": "python3"
  },
  "language_info": {
   "codemirror_mode": {
    "name": "ipython",
    "version": 3
   },
   "file_extension": ".py",
   "mimetype": "text/x-python",
   "name": "python",
   "nbconvert_exporter": "python",
   "pygments_lexer": "ipython3",
   "version": "3.13.5"
  }
 },
 "nbformat": 4,
 "nbformat_minor": 5
}
